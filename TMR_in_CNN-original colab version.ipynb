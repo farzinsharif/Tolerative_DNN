{
  "nbformat": 4,
  "nbformat_minor": 0,
  "metadata": {
    "colab": {
      "provenance": [],
      "gpuType": "T4"
    },
    "kernelspec": {
      "name": "python3",
      "display_name": "Python 3"
    },
    "language_info": {
      "name": "python"
    },
    "accelerator": "GPU"
  },
  "cells": [
    {
      "cell_type": "code",
      "execution_count": null,
      "metadata": {
        "colab": {
          "base_uri": "https://localhost:8080/"
        },
        "id": "WGfZzyNQTN7h",
        "outputId": "00be5bf8-97d0-4414-cbad-67ebf08f6f2a"
      },
      "outputs": [
        {
          "output_type": "stream",
          "name": "stdout",
          "text": [
            "Drive already mounted at /content/gdrive; to attempt to forcibly remount, call drive.mount(\"/content/gdrive\", force_remount=True).\n"
          ]
        }
      ],
      "source": [
        "import torch\n",
        "import torchvision\n",
        "import torchvision.transforms as transforms\n",
        "import torch.nn.utils.prune as prune\n",
        "import torch.nn.functional as F\n",
        "import random\n",
        "import pandas as pd\n",
        "transform = transforms.Compose([\n",
        "    transforms.Resize(256),\n",
        "    transforms.CenterCrop(224),\n",
        "    transforms.ToTensor(),\n",
        "    transforms.Normalize(mean=[0.485, 0.456, 0.406], std=[0.229, 0.224, 0.225]),\n",
        "])\n",
        "#training data\n",
        "train_data = torchvision.datasets.CIFAR100(root='./data', train=True, download=True, transform=transform)\n",
        "\n",
        "trainloader = torch.utils.data.DataLoader(train_data, batch_size=32, shuffle=True, num_workers=2)\n",
        "\n",
        "#test data\n",
        "test_data = torchvision.datasets.CIFAR100(root='./data', train=False, download=True, transform=transform)\n",
        "\n",
        "testloader = torch.utils.data.DataLoader(test_data, batch_size=32, shuffle=False, num_workers=2)\n",
        "\n",
        "\n",
        "from google.colab import drive\n",
        "drive.mount('/content/gdrive')"
      ]
    },
    {
      "cell_type": "code",
      "source": [
        "model_save_name = 'VGG11_80.pt'\n",
        "path = F\"/content/gdrive/MyDrive/VGG11/{model_save_name}\"\n",
        "AlexNet_model = torchvision.models.vgg11_bn(pretrained=True)\n",
        "device = torch.device(\"cuda:0\" if torch.cuda.is_available() else \"cpu\")\n",
        "model = AlexNet_model.to(device)\n",
        "model = torch.load(path, weights_only=False)\n",
        "\n",
        "model.eval()"
      ],
      "metadata": {
        "colab": {
          "base_uri": "https://localhost:8080/"
        },
        "id": "GYhiGg65TXx9",
        "outputId": "0fa4a7c7-a8c4-4186-82fa-71617e4ff63c"
      },
      "execution_count": null,
      "outputs": [
        {
          "output_type": "stream",
          "name": "stderr",
          "text": [
            "/usr/local/lib/python3.11/dist-packages/torchvision/models/_utils.py:208: UserWarning: The parameter 'pretrained' is deprecated since 0.13 and may be removed in the future, please use 'weights' instead.\n",
            "  warnings.warn(\n",
            "/usr/local/lib/python3.11/dist-packages/torchvision/models/_utils.py:223: UserWarning: Arguments other than a weight enum or `None` for 'weights' are deprecated since 0.13 and may be removed in the future. The current behavior is equivalent to passing `weights=VGG11_BN_Weights.IMAGENET1K_V1`. You can also use `weights=VGG11_BN_Weights.DEFAULT` to get the most up-to-date weights.\n",
            "  warnings.warn(msg)\n"
          ]
        },
        {
          "output_type": "execute_result",
          "data": {
            "text/plain": [
              "VGG(\n",
              "  (features): Sequential(\n",
              "    (0): Conv2d(3, 64, kernel_size=(3, 3), stride=(1, 1), padding=(1, 1))\n",
              "    (1): BatchNorm2d(64, eps=1e-05, momentum=0.1, affine=True, track_running_stats=True)\n",
              "    (2): ReLU(inplace=True)\n",
              "    (3): MaxPool2d(kernel_size=2, stride=2, padding=0, dilation=1, ceil_mode=False)\n",
              "    (4): Conv2d(64, 128, kernel_size=(3, 3), stride=(1, 1), padding=(1, 1))\n",
              "    (5): BatchNorm2d(128, eps=1e-05, momentum=0.1, affine=True, track_running_stats=True)\n",
              "    (6): ReLU(inplace=True)\n",
              "    (7): MaxPool2d(kernel_size=2, stride=2, padding=0, dilation=1, ceil_mode=False)\n",
              "    (8): Conv2d(128, 256, kernel_size=(3, 3), stride=(1, 1), padding=(1, 1))\n",
              "    (9): BatchNorm2d(256, eps=1e-05, momentum=0.1, affine=True, track_running_stats=True)\n",
              "    (10): ReLU(inplace=True)\n",
              "    (11): Conv2d(256, 256, kernel_size=(3, 3), stride=(1, 1), padding=(1, 1))\n",
              "    (12): BatchNorm2d(256, eps=1e-05, momentum=0.1, affine=True, track_running_stats=True)\n",
              "    (13): ReLU(inplace=True)\n",
              "    (14): MaxPool2d(kernel_size=2, stride=2, padding=0, dilation=1, ceil_mode=False)\n",
              "    (15): Conv2d(256, 512, kernel_size=(3, 3), stride=(1, 1), padding=(1, 1))\n",
              "    (16): BatchNorm2d(512, eps=1e-05, momentum=0.1, affine=True, track_running_stats=True)\n",
              "    (17): ReLU(inplace=True)\n",
              "    (18): Conv2d(512, 512, kernel_size=(3, 3), stride=(1, 1), padding=(1, 1))\n",
              "    (19): BatchNorm2d(512, eps=1e-05, momentum=0.1, affine=True, track_running_stats=True)\n",
              "    (20): ReLU(inplace=True)\n",
              "    (21): MaxPool2d(kernel_size=2, stride=2, padding=0, dilation=1, ceil_mode=False)\n",
              "    (22): Conv2d(512, 512, kernel_size=(3, 3), stride=(1, 1), padding=(1, 1))\n",
              "    (23): BatchNorm2d(512, eps=1e-05, momentum=0.1, affine=True, track_running_stats=True)\n",
              "    (24): ReLU(inplace=True)\n",
              "    (25): Conv2d(512, 512, kernel_size=(3, 3), stride=(1, 1), padding=(1, 1))\n",
              "    (26): BatchNorm2d(512, eps=1e-05, momentum=0.1, affine=True, track_running_stats=True)\n",
              "    (27): ReLU(inplace=True)\n",
              "    (28): MaxPool2d(kernel_size=2, stride=2, padding=0, dilation=1, ceil_mode=False)\n",
              "  )\n",
              "  (avgpool): AdaptiveAvgPool2d(output_size=(7, 7))\n",
              "  (classifier): Sequential(\n",
              "    (0): Linear(in_features=25088, out_features=4096, bias=True)\n",
              "    (1): ReLU(inplace=True)\n",
              "    (2): Dropout(p=0.5, inplace=False)\n",
              "    (3): Linear(in_features=4096, out_features=4096, bias=True)\n",
              "    (4): ReLU(inplace=True)\n",
              "    (5): Dropout(p=0.5, inplace=False)\n",
              "    (6): Linear(in_features=4096, out_features=100, bias=True)\n",
              "  )\n",
              ")"
            ]
          },
          "metadata": {},
          "execution_count": 2
        }
      ]
    },
    {
      "cell_type": "code",
      "source": [
        "pip install pytorch-ignite"
      ],
      "metadata": {
        "colab": {
          "base_uri": "https://localhost:8080/"
        },
        "id": "z03CMqcrTabn",
        "outputId": "f50cc2c4-3007-4772-d49f-e22158db0b9c"
      },
      "execution_count": null,
      "outputs": [
        {
          "output_type": "stream",
          "name": "stdout",
          "text": [
            "Requirement already satisfied: pytorch-ignite in /usr/local/lib/python3.11/dist-packages (0.5.2)\n",
            "Requirement already satisfied: torch<3,>=1.3 in /usr/local/lib/python3.11/dist-packages (from pytorch-ignite) (2.6.0+cu124)\n",
            "Requirement already satisfied: packaging in /usr/local/lib/python3.11/dist-packages (from pytorch-ignite) (24.2)\n",
            "Requirement already satisfied: filelock in /usr/local/lib/python3.11/dist-packages (from torch<3,>=1.3->pytorch-ignite) (3.18.0)\n",
            "Requirement already satisfied: typing-extensions>=4.10.0 in /usr/local/lib/python3.11/dist-packages (from torch<3,>=1.3->pytorch-ignite) (4.13.2)\n",
            "Requirement already satisfied: networkx in /usr/local/lib/python3.11/dist-packages (from torch<3,>=1.3->pytorch-ignite) (3.4.2)\n",
            "Requirement already satisfied: jinja2 in /usr/local/lib/python3.11/dist-packages (from torch<3,>=1.3->pytorch-ignite) (3.1.6)\n",
            "Requirement already satisfied: fsspec in /usr/local/lib/python3.11/dist-packages (from torch<3,>=1.3->pytorch-ignite) (2025.3.2)\n",
            "Requirement already satisfied: nvidia-cuda-nvrtc-cu12==12.4.127 in /usr/local/lib/python3.11/dist-packages (from torch<3,>=1.3->pytorch-ignite) (12.4.127)\n",
            "Requirement already satisfied: nvidia-cuda-runtime-cu12==12.4.127 in /usr/local/lib/python3.11/dist-packages (from torch<3,>=1.3->pytorch-ignite) (12.4.127)\n",
            "Requirement already satisfied: nvidia-cuda-cupti-cu12==12.4.127 in /usr/local/lib/python3.11/dist-packages (from torch<3,>=1.3->pytorch-ignite) (12.4.127)\n",
            "Requirement already satisfied: nvidia-cudnn-cu12==9.1.0.70 in /usr/local/lib/python3.11/dist-packages (from torch<3,>=1.3->pytorch-ignite) (9.1.0.70)\n",
            "Requirement already satisfied: nvidia-cublas-cu12==12.4.5.8 in /usr/local/lib/python3.11/dist-packages (from torch<3,>=1.3->pytorch-ignite) (12.4.5.8)\n",
            "Requirement already satisfied: nvidia-cufft-cu12==11.2.1.3 in /usr/local/lib/python3.11/dist-packages (from torch<3,>=1.3->pytorch-ignite) (11.2.1.3)\n",
            "Requirement already satisfied: nvidia-curand-cu12==10.3.5.147 in /usr/local/lib/python3.11/dist-packages (from torch<3,>=1.3->pytorch-ignite) (10.3.5.147)\n",
            "Requirement already satisfied: nvidia-cusolver-cu12==11.6.1.9 in /usr/local/lib/python3.11/dist-packages (from torch<3,>=1.3->pytorch-ignite) (11.6.1.9)\n",
            "Requirement already satisfied: nvidia-cusparse-cu12==12.3.1.170 in /usr/local/lib/python3.11/dist-packages (from torch<3,>=1.3->pytorch-ignite) (12.3.1.170)\n",
            "Requirement already satisfied: nvidia-cusparselt-cu12==0.6.2 in /usr/local/lib/python3.11/dist-packages (from torch<3,>=1.3->pytorch-ignite) (0.6.2)\n",
            "Requirement already satisfied: nvidia-nccl-cu12==2.21.5 in /usr/local/lib/python3.11/dist-packages (from torch<3,>=1.3->pytorch-ignite) (2.21.5)\n",
            "Requirement already satisfied: nvidia-nvtx-cu12==12.4.127 in /usr/local/lib/python3.11/dist-packages (from torch<3,>=1.3->pytorch-ignite) (12.4.127)\n",
            "Requirement already satisfied: nvidia-nvjitlink-cu12==12.4.127 in /usr/local/lib/python3.11/dist-packages (from torch<3,>=1.3->pytorch-ignite) (12.4.127)\n",
            "Requirement already satisfied: triton==3.2.0 in /usr/local/lib/python3.11/dist-packages (from torch<3,>=1.3->pytorch-ignite) (3.2.0)\n",
            "Requirement already satisfied: sympy==1.13.1 in /usr/local/lib/python3.11/dist-packages (from torch<3,>=1.3->pytorch-ignite) (1.13.1)\n",
            "Requirement already satisfied: mpmath<1.4,>=1.1.0 in /usr/local/lib/python3.11/dist-packages (from sympy==1.13.1->torch<3,>=1.3->pytorch-ignite) (1.3.0)\n",
            "Requirement already satisfied: MarkupSafe>=2.0 in /usr/local/lib/python3.11/dist-packages (from jinja2->torch<3,>=1.3->pytorch-ignite) (3.0.2)\n"
          ]
        }
      ]
    },
    {
      "cell_type": "code",
      "source": [
        "from ignite.metrics import Precision,Recall,Accuracy,ConfusionMatrix,TopKCategoricalAccuracy\n",
        "precision = Precision(device=device)\n",
        "#confusionMatrix=ConfusionMatrix(10,device=device)\n",
        "recall=Recall(device=device)\n",
        "acc=Accuracy(device=device)\n",
        "T_acc=TopKCategoricalAccuracy(k=5,device=device)\n",
        "criterion = torch.nn.CrossEntropyLoss()\n",
        "\n",
        "sm = torch.nn.Softmax(dim=1)\n",
        "def test(model):\n",
        "    confi=0\n",
        "    sub_confi=0\n",
        "    correct=0\n",
        "    total=0\n",
        "    with torch.no_grad():\n",
        "\n",
        "        for data in testloader:\n",
        "            images, labels = data\n",
        "            images, labels = images.to(device), labels.to(device)\n",
        "            outputs = model(images)\n",
        "            #loss = criterion(outputs, labels)\n",
        "            precision.update((outputs, labels))\n",
        "            #confusionMatrix.update((outputs, labels))\n",
        "            recall.update((outputs, labels))\n",
        "            acc.update((outputs, labels))\n",
        "            T_acc.update((outputs, labels))\n",
        "            probabilities = sm(outputs)\n",
        "            topk=torch.topk(probabilities, 1)\n",
        "            topk2=torch.topk(probabilities, 2)\n",
        "            cols = torch.chunk(topk2.values, 2, 1)\n",
        "            sub_confi+=(cols[0].sum()-cols[1].sum())/32\n",
        "            confi+=topk.values.sum()/32\n",
        "            index_conf=torch.nonzero(topk.values.reshape(-1)>0.50)\n",
        "            _, predicted = torch.max(outputs.data, 1)\n",
        "            correct += (predicted[index_conf] == labels[index_conf]).sum()\n",
        "            #print(topk.values)\n",
        "            total += labels.size(0)\n",
        "\n",
        "        return_acc=acc.compute()\n",
        "        return_pre=precision.compute()\n",
        "        return_rec=recall.compute()\n",
        "        return_tacc= T_acc.compute()\n",
        "        return_con=confi/len(testloader)\n",
        "        return_sub_con=sub_confi/len(testloader)\n",
        "        precision.reset()\n",
        "        recall.reset()\n",
        "        acc.reset()\n",
        "        #confusionMatrix.reset()\n",
        "        T_acc.reset()\n",
        "        acc_50=correct/total\n",
        "        return return_acc,return_pre,return_rec,return_tacc,return_con.item(),return_sub_con.item(),acc_50.item()\n"
      ],
      "metadata": {
        "id": "NmjduZibTcwZ"
      },
      "execution_count": null,
      "outputs": []
    },
    {
      "cell_type": "code",
      "source": [
        "test(model)"
      ],
      "metadata": {
        "colab": {
          "base_uri": "https://localhost:8080/"
        },
        "id": "lXz8YmTyTe1E",
        "outputId": "4d5579a5-8cdf-48c0-cae7-fc2215cf99a6"
      },
      "execution_count": null,
      "outputs": [
        {
          "output_type": "execute_result",
          "data": {
            "text/plain": [
              "(0.7475,\n",
              " tensor([0.9495, 0.8333, 0.7765, 0.6778, 0.4914, 0.7059, 0.8222, 0.7766, 0.9293,\n",
              "         0.8725, 0.7126, 0.5050, 0.8155, 0.7895, 0.7184, 0.7009, 0.7358, 0.8763,\n",
              "         0.7935, 0.7528, 0.9091, 0.7963, 0.7545, 0.8421, 0.7983, 0.6495, 0.7889,\n",
              "         0.5736, 0.8081, 0.6600, 0.7018, 0.7363, 0.7030, 0.6311, 0.7778, 0.4779,\n",
              "         0.7778, 0.7767, 0.6476, 0.8571, 0.7188, 0.8529, 0.7170, 0.7938, 0.7093,\n",
              "         0.6778, 0.5865, 0.6593, 0.8879, 0.7895, 0.5978, 0.8283, 0.5390, 0.8654,\n",
              "         0.7890, 0.5366, 0.8317, 0.8019, 0.8788, 0.7250, 0.8241, 0.8090, 0.6944,\n",
              "         0.6923, 0.6824, 0.6304, 0.7653, 0.6552, 0.8932, 0.8763, 0.7453, 0.7664,\n",
              "         0.4949, 0.6636, 0.5091, 0.8393, 0.8598, 0.7692, 0.7526, 0.7864, 0.6979,\n",
              "         0.7917, 0.8911, 0.7579, 0.7551, 0.8700, 0.8588, 0.8173, 0.8191, 0.8544,\n",
              "         0.7383, 0.8095, 0.7386, 0.6500, 0.8879, 0.6887, 0.7160, 0.7670, 0.5579,\n",
              "         0.8191], device='cuda:0', dtype=torch.float64),\n",
              " tensor([0.9400, 0.8500, 0.6600, 0.6100, 0.5700, 0.7200, 0.7400, 0.7300, 0.9200,\n",
              "         0.8900, 0.6200, 0.5100, 0.8400, 0.7500, 0.7400, 0.8200, 0.7800, 0.8500,\n",
              "         0.7300, 0.6700, 0.8000, 0.8600, 0.8300, 0.8000, 0.9500, 0.6300, 0.7100,\n",
              "         0.7400, 0.8000, 0.6600, 0.8000, 0.6700, 0.7100, 0.6500, 0.8400, 0.5400,\n",
              "         0.7700, 0.8000, 0.6800, 0.8400, 0.6900, 0.8700, 0.7600, 0.7700, 0.6100,\n",
              "         0.6100, 0.6100, 0.6000, 0.9500, 0.9000, 0.5500, 0.8200, 0.7600, 0.9000,\n",
              "         0.8600, 0.4400, 0.8400, 0.8500, 0.8700, 0.5800, 0.8900, 0.7200, 0.7500,\n",
              "         0.6300, 0.5800, 0.5800, 0.7500, 0.5700, 0.9200, 0.8500, 0.7900, 0.8200,\n",
              "         0.4900, 0.7100, 0.5600, 0.9400, 0.9200, 0.7000, 0.7300, 0.8100, 0.6700,\n",
              "         0.7600, 0.9000, 0.7200, 0.7400, 0.8700, 0.7300, 0.8500, 0.7700, 0.8800,\n",
              "         0.7900, 0.8500, 0.6500, 0.6500, 0.9500, 0.7300, 0.5800, 0.7900, 0.5300,\n",
              "         0.7700], device='cuda:0', dtype=torch.float64),\n",
              " 0.9463,\n",
              " 0.7619563341140747,\n",
              " 0.6550694108009338,\n",
              " 0.674299955368042)"
            ]
          },
          "metadata": {},
          "execution_count": 8
        }
      ]
    },
    {
      "cell_type": "code",
      "source": [
        "import numpy as np\n",
        "\n",
        "def IEEE754_v2_tensor(numbers):\n",
        "\n",
        "    signs = np.where(numbers < 0, 1, 0)\n",
        "    numbers = np.abs(numbers)\n",
        "\n",
        "    int_parts = np.floor(numbers).astype(int)\n",
        "    dec_parts = numbers - int_parts\n",
        "\n",
        "    int_bin_parts = np.array([bin(x).replace('0b', '') if x > 0 else '' for x in int_parts])\n",
        "\n",
        "    mantissas = []\n",
        "    exponents = []\n",
        "\n",
        "    for i in range(len(numbers)):\n",
        "        if int_parts[i] > 0:\n",
        "            mantissa = int_bin_parts[i][1:] + fractional_to_bin(dec_parts[i], 23 - len(int_bin_parts[i][1:]))\n",
        "            exponent = len(int_bin_parts[i]) - 1\n",
        "        else:\n",
        "            fraction_bin = fractional_to_bin(dec_parts[i], 50)\n",
        "            first_one = fraction_bin.find('1')\n",
        "            exponent = -(first_one + 1)\n",
        "            mantissa = fraction_bin[first_one + 1:first_one + 24]\n",
        "\n",
        "        mantissa = (mantissa + '0' * 23)[:23]\n",
        "        mantissas.append(mantissa)\n",
        "        exponents.append(exponent)\n",
        "\n",
        "    exponents = np.array(exponents) + 127\n",
        "    exponent_bits = np.array([bin(e).replace('0b', '').zfill(8) for e in exponents])\n",
        "\n",
        "    ieee754_representations = np.array([\n",
        "        str(signs[i]) + exponent_bits[i] + mantissas[i] for i in range(len(numbers))\n",
        "    ])\n",
        "\n",
        "    return ieee754_representations\n",
        "\n",
        "\n",
        "def fractional_to_bin(dec_part, length=24):\n",
        "\n",
        "    mantissa = ''\n",
        "    for _ in range(length):\n",
        "        dec_part *= 2\n",
        "        int_part = int(dec_part)\n",
        "        mantissa += str(int_part)\n",
        "        dec_part -= int_part\n",
        "        if dec_part == 0:\n",
        "            break\n",
        "    return mantissa + '0' * (length - len(mantissa))  # Pad to ensure fixed length\n",
        "\n",
        "import numpy as np\n",
        "\n",
        "def inv_IEEE754_tensor(num_IEEE_array):\n",
        "\n",
        "    binary_matrix = np.array([list(num) for num in num_IEEE_array], dtype=int)\n",
        "\n",
        "\n",
        "    signs = binary_matrix[:, 0]\n",
        "\n",
        "    exponent_bits = binary_matrix[:, 1:9]\n",
        "    exponents = np.dot(exponent_bits, 2 ** np.arange(7, -1, -1))\n",
        "    mantissa_bits = binary_matrix[:, 9:].astype(float)\n",
        "    powers = 2.0 ** np.arange(-1, -mantissa_bits.shape[1] - 1, -1, dtype=float)\n",
        "    mantissas = np.dot(mantissa_bits, powers)\n",
        "    normalized_mantissas = 1.0 + mantissas\n",
        "    is_subnormal = (exponents == 0)\n",
        "    exponents = np.where(is_subnormal, -126, exponents - 127)\n",
        "    mantissas = np.where(is_subnormal, mantissas, normalized_mantissas)\n",
        "    is_zero = (exponents == -127) & (mantissa_bits.sum(axis=1) == 0)\n",
        "    numbers = mantissas * (2.0 ** exponents)\n",
        "    numbers = np.where(is_zero, 0.0, numbers)\n",
        "    numbers = np.where(signs == 1, -numbers, numbers)\n",
        "\n",
        "    return numbers\n",
        "\n"
      ],
      "metadata": {
        "id": "6f4wYg79ThPY"
      },
      "execution_count": null,
      "outputs": []
    },
    {
      "cell_type": "code",
      "source": [
        "\n",
        "import numpy as np\n",
        "import torch\n",
        "\n",
        "def bitFLIP_v3_tensor(original_values, positions_list):\n",
        "    original_values_np = original_values.cpu().detach().numpy()  # Convert Torch tensor to NumPy array\n",
        "\n",
        "    ieee_binary_strings = IEEE754_v2_tensor(original_values_np)  # Convert to IEEE 754 binary\n",
        "    flipped_binaries = []\n",
        "    for i, positions in enumerate(positions_list):\n",
        "        str_num = list(ieee_binary_strings[i])\n",
        "        for position in positions:\n",
        "            bit_position = 31 - position  # Convert to IEEE754 bit position\n",
        "            if bit_position == 1:  # Prevent flipping sign bit\n",
        "                bit_position = 0\n",
        "            #print(len(str_num))\n",
        "            str_num[bit_position] = '0' if str_num[bit_position] == '1' else '1'\n",
        "        if(original_values_np[i]==0):\n",
        "          #print(original_values_np[i])\n",
        "          str_num='00000000000000000000000000000000'\n",
        "        flipped_binaries.append(\"\".join(str_num))\n",
        "\n",
        "    flipped_values = inv_IEEE754_tensor(np.array(flipped_binaries))\n",
        "\n",
        "    flipped_values_tensor = torch.tensor(flipped_values, dtype=original_values.dtype, device=original_values.device, requires_grad=True)\n",
        "\n",
        "    return flipped_values_tensor\n",
        "\n",
        "\n"
      ],
      "metadata": {
        "id": "XF6364dBTjgC"
      },
      "execution_count": null,
      "outputs": []
    },
    {
      "cell_type": "code",
      "source": [],
      "metadata": {
        "id": "t0SyW-dITr89"
      },
      "execution_count": null,
      "outputs": []
    },
    {
      "cell_type": "code",
      "source": [
        "import torch\n",
        "import random\n",
        "import pandas as pd\n",
        "from collections import Counter\n",
        "\n",
        "def fault_tolerance_two_agree(BER, model):\n",
        "\n",
        "    t = torch.cat([param.view(-1) for name, param in model.named_parameters()\n",
        "                   if \"weight\" in name and \"norm\" not in name]).to('cuda:0')\n",
        "\n",
        "    count = len(t)\n",
        "    nums = int(count * 31 * BER)\n",
        "\n",
        "\n",
        "    def random_bit_positions():\n",
        "        return random.sample(range(0, 31 * count), nums)\n",
        "\n",
        "    pos1 = random_bit_positions()\n",
        "    pos2 = random_bit_positions()\n",
        "    pos3 = random_bit_positions()\n",
        "\n",
        "    # Step 3: Count occurrences across all three selections\n",
        "    all_positions = pos1 + pos2 + pos3\n",
        "    pos_counts = Counter(all_positions)\n",
        "\n",
        "    # Step 4: Keep positions that appear at least twice\n",
        "    two_or_more = [pos for pos, cnt in pos_counts.items() if cnt >= 2]\n",
        "\n",
        "    if len(two_or_more) == 0:\n",
        "        print(\"No 2-agreement bit flips found. Nothing to do.\")\n",
        "        return\n",
        "\n",
        "    lst_sorted_final = torch.tensor(sorted(two_or_more), device='cuda:0')\n",
        "\n",
        "\n",
        "    bit_positions = lst_sorted_final % 31\n",
        "    index_positions = (lst_sorted_final - bit_positions) // 31\n",
        "\n",
        "\n",
        "    bits_grouped = pd.DataFrame({\n",
        "        'index': index_positions.cpu(),\n",
        "        'bit': bit_positions.cpu()\n",
        "    }).groupby('index', sort=False)['bit'].apply(list).to_dict()\n",
        "\n",
        "    unique_indices = torch.tensor(list(bits_grouped.keys()), device='cuda:0')\n",
        "    bit_flips = [torch.tensor(bits_grouped[idx.item()], device='cuda:0') for idx in unique_indices]\n",
        "\n",
        "\n",
        "    mask = (t[unique_indices] != 0)\n",
        "    keep_idx = mask.nonzero(as_tuple=False).flatten()\n",
        "\n",
        "    if len(keep_idx) == 0:\n",
        "        print(\"No non-zero values to flip. Exiting.\")\n",
        "        return\n",
        "\n",
        "    unique_indices = unique_indices[keep_idx]\n",
        "    bit_flips = [bit_flips[i] for i in keep_idx.tolist()]\n",
        "\n",
        "    flipped_values = bitFLIP_v3_tensor(t[unique_indices], bit_flips)\n",
        "\n",
        "\n",
        "    start = 0\n",
        "    for name, param in model.named_parameters():\n",
        "        if \"weight\" in name and \"norm\" not in name:\n",
        "            param_size = param.numel()\n",
        "            end = start + param_size\n",
        "            mask = (unique_indices >= start) & (unique_indices < end)\n",
        "\n",
        "            if mask.any():\n",
        "                update_indices = unique_indices[mask] - start\n",
        "                param_flat = param.view(-1).clone()\n",
        "\n",
        "                non_zero_mask = param_flat[update_indices] != 0\n",
        "                if non_zero_mask.any():\n",
        "                    valid_update_indices = update_indices[non_zero_mask]\n",
        "                    valid_flipped_values = flipped_values[mask][non_zero_mask]\n",
        "                    param_flat[valid_update_indices] = valid_flipped_values\n",
        "\n",
        "                param.data.copy_(param_flat.view(param.shape))\n",
        "\n",
        "            start = end\n"
      ],
      "metadata": {
        "id": "brnx4f09xZFl"
      },
      "execution_count": null,
      "outputs": []
    },
    {
      "cell_type": "code",
      "source": [],
      "metadata": {
        "id": "TPzXLIwzV0Si"
      },
      "execution_count": null,
      "outputs": []
    },
    {
      "cell_type": "code",
      "source": [],
      "metadata": {
        "id": "VxODLk5_yLmm"
      },
      "execution_count": null,
      "outputs": []
    },
    {
      "cell_type": "code",
      "source": [
        "#doual\n",
        "Accuracy=[]\n",
        "Precision=[]\n",
        "Recall=[]\n",
        "Tacc=[]\n",
        "conf=[]\n",
        "sub_conf=[]\n",
        "fault_position_array=[]\n",
        "bits_array=[]\n",
        "acc_50=[]\n",
        "M=6\n",
        "power=-3\n",
        "while (power<-1):\n",
        "  for i in range (50):\n",
        "    print(power)\n",
        "    BER=5*(10**power)\n",
        "    #fault_position,bits=fault_positions(model,BER)\n",
        "    fault_tolerance_two_agree( BER, model)\n",
        "    return_acc,return_pre,return_rec,return_tacc,return_conf,return_sub_conf,return_acc_50=test(model)\n",
        "    Accuracy.append(return_acc)\n",
        "    Precision.append(return_pre)\n",
        "    Recall.append(return_rec)\n",
        "    Tacc.append(return_tacc)\n",
        "    conf.append(return_conf)\n",
        "    sub_conf.append(return_sub_conf)\n",
        "    acc_50.append(return_acc_50)\n",
        "    device = torch.device('cuda' if torch.cuda.is_available() else 'cpu')  # Use GPU if available\n",
        "    model = torch.load(path, weights_only=False)\n",
        "    model.eval()\n",
        "    print(Accuracy)\n",
        "  power+=1"
      ],
      "metadata": {
        "colab": {
          "base_uri": "https://localhost:8080/",
          "height": 686
        },
        "id": "IWSfUbojTt-R",
        "outputId": "a9622156-261a-4f6a-eafb-f7729a6f1b21"
      },
      "execution_count": null,
      "outputs": [
        {
          "output_type": "stream",
          "name": "stdout",
          "text": [
            "-3\n",
            "[0.4798]\n",
            "-3\n",
            "[0.4798, 0.6585]\n",
            "-3\n",
            "[0.4798, 0.6585, 0.7147]\n",
            "-3\n",
            "[0.4798, 0.6585, 0.7147, 0.7283]\n",
            "-3\n",
            "[0.4798, 0.6585, 0.7147, 0.7283, 0.7212]\n",
            "-3\n",
            "[0.4798, 0.6585, 0.7147, 0.7283, 0.7212, 0.5718]\n",
            "-3\n",
            "[0.4798, 0.6585, 0.7147, 0.7283, 0.7212, 0.5718, 0.7059]\n",
            "-3\n",
            "[0.4798, 0.6585, 0.7147, 0.7283, 0.7212, 0.5718, 0.7059, 0.6112]\n",
            "-3\n",
            "[0.4798, 0.6585, 0.7147, 0.7283, 0.7212, 0.5718, 0.7059, 0.6112, 0.7287]\n",
            "-3\n"
          ]
        },
        {
          "output_type": "error",
          "ename": "KeyboardInterrupt",
          "evalue": "",
          "traceback": [
            "\u001b[0;31m---------------------------------------------------------------------------\u001b[0m",
            "\u001b[0;31mKeyboardInterrupt\u001b[0m                         Traceback (most recent call last)",
            "\u001b[0;32m<ipython-input-12-20e72c181679>\u001b[0m in \u001b[0;36m<cell line: 0>\u001b[0;34m()\u001b[0m\n\u001b[1;32m     16\u001b[0m     \u001b[0mBER\u001b[0m\u001b[0;34m=\u001b[0m\u001b[0;36m5\u001b[0m\u001b[0;34m*\u001b[0m\u001b[0;34m(\u001b[0m\u001b[0;36m10\u001b[0m\u001b[0;34m**\u001b[0m\u001b[0mpower\u001b[0m\u001b[0;34m)\u001b[0m\u001b[0;34m\u001b[0m\u001b[0;34m\u001b[0m\u001b[0m\n\u001b[1;32m     17\u001b[0m     \u001b[0;31m#fault_position,bits=fault_positions(model,BER)\u001b[0m\u001b[0;34m\u001b[0m\u001b[0;34m\u001b[0m\u001b[0m\n\u001b[0;32m---> 18\u001b[0;31m     \u001b[0mfault_tolerance_two_agree\u001b[0m\u001b[0;34m(\u001b[0m \u001b[0mBER\u001b[0m\u001b[0;34m,\u001b[0m \u001b[0mmodel\u001b[0m\u001b[0;34m)\u001b[0m\u001b[0;34m\u001b[0m\u001b[0;34m\u001b[0m\u001b[0m\n\u001b[0m\u001b[1;32m     19\u001b[0m     \u001b[0mreturn_acc\u001b[0m\u001b[0;34m,\u001b[0m\u001b[0mreturn_pre\u001b[0m\u001b[0;34m,\u001b[0m\u001b[0mreturn_rec\u001b[0m\u001b[0;34m,\u001b[0m\u001b[0mreturn_tacc\u001b[0m\u001b[0;34m,\u001b[0m\u001b[0mreturn_conf\u001b[0m\u001b[0;34m,\u001b[0m\u001b[0mreturn_sub_conf\u001b[0m\u001b[0;34m,\u001b[0m\u001b[0mreturn_acc_50\u001b[0m\u001b[0;34m=\u001b[0m\u001b[0mtest\u001b[0m\u001b[0;34m(\u001b[0m\u001b[0mmodel\u001b[0m\u001b[0;34m)\u001b[0m\u001b[0;34m\u001b[0m\u001b[0;34m\u001b[0m\u001b[0m\n\u001b[1;32m     20\u001b[0m     \u001b[0mAccuracy\u001b[0m\u001b[0;34m.\u001b[0m\u001b[0mappend\u001b[0m\u001b[0;34m(\u001b[0m\u001b[0mreturn_acc\u001b[0m\u001b[0;34m)\u001b[0m\u001b[0;34m\u001b[0m\u001b[0;34m\u001b[0m\u001b[0m\n",
            "\u001b[0;32m<ipython-input-11-9db515b85706>\u001b[0m in \u001b[0;36mfault_tolerance_two_agree\u001b[0;34m(BER, model)\u001b[0m\n\u001b[1;32m     18\u001b[0m     \u001b[0mpos1\u001b[0m \u001b[0;34m=\u001b[0m \u001b[0mrandom_bit_positions\u001b[0m\u001b[0;34m(\u001b[0m\u001b[0;34m)\u001b[0m\u001b[0;34m\u001b[0m\u001b[0;34m\u001b[0m\u001b[0m\n\u001b[1;32m     19\u001b[0m     \u001b[0mpos2\u001b[0m \u001b[0;34m=\u001b[0m \u001b[0mrandom_bit_positions\u001b[0m\u001b[0;34m(\u001b[0m\u001b[0;34m)\u001b[0m\u001b[0;34m\u001b[0m\u001b[0;34m\u001b[0m\u001b[0m\n\u001b[0;32m---> 20\u001b[0;31m     \u001b[0mpos3\u001b[0m \u001b[0;34m=\u001b[0m \u001b[0mrandom_bit_positions\u001b[0m\u001b[0;34m(\u001b[0m\u001b[0;34m)\u001b[0m\u001b[0;34m\u001b[0m\u001b[0;34m\u001b[0m\u001b[0m\n\u001b[0m\u001b[1;32m     21\u001b[0m \u001b[0;34m\u001b[0m\u001b[0m\n\u001b[1;32m     22\u001b[0m     \u001b[0;31m# Step 3: Count occurrences across all three selections\u001b[0m\u001b[0;34m\u001b[0m\u001b[0;34m\u001b[0m\u001b[0m\n",
            "\u001b[0;32m<ipython-input-11-9db515b85706>\u001b[0m in \u001b[0;36mrandom_bit_positions\u001b[0;34m()\u001b[0m\n\u001b[1;32m     14\u001b[0m     \u001b[0;31m# Step 2: Generate 3 independent random bit selections\u001b[0m\u001b[0;34m\u001b[0m\u001b[0;34m\u001b[0m\u001b[0m\n\u001b[1;32m     15\u001b[0m     \u001b[0;32mdef\u001b[0m \u001b[0mrandom_bit_positions\u001b[0m\u001b[0;34m(\u001b[0m\u001b[0;34m)\u001b[0m\u001b[0;34m:\u001b[0m\u001b[0;34m\u001b[0m\u001b[0;34m\u001b[0m\u001b[0m\n\u001b[0;32m---> 16\u001b[0;31m         \u001b[0;32mreturn\u001b[0m \u001b[0mrandom\u001b[0m\u001b[0;34m.\u001b[0m\u001b[0msample\u001b[0m\u001b[0;34m(\u001b[0m\u001b[0mrange\u001b[0m\u001b[0;34m(\u001b[0m\u001b[0;36m0\u001b[0m\u001b[0;34m,\u001b[0m \u001b[0;36m31\u001b[0m \u001b[0;34m*\u001b[0m \u001b[0mcount\u001b[0m\u001b[0;34m)\u001b[0m\u001b[0;34m,\u001b[0m \u001b[0mnums\u001b[0m\u001b[0;34m)\u001b[0m\u001b[0;34m\u001b[0m\u001b[0;34m\u001b[0m\u001b[0m\n\u001b[0m\u001b[1;32m     17\u001b[0m \u001b[0;34m\u001b[0m\u001b[0m\n\u001b[1;32m     18\u001b[0m     \u001b[0mpos1\u001b[0m \u001b[0;34m=\u001b[0m \u001b[0mrandom_bit_positions\u001b[0m\u001b[0;34m(\u001b[0m\u001b[0;34m)\u001b[0m\u001b[0;34m\u001b[0m\u001b[0;34m\u001b[0m\u001b[0m\n",
            "\u001b[0;32m/usr/lib/python3.11/random.py\u001b[0m in \u001b[0;36msample\u001b[0;34m(self, population, k, counts)\u001b[0m\n\u001b[1;32m    471\u001b[0m             \u001b[0mselected_add\u001b[0m \u001b[0;34m=\u001b[0m \u001b[0mselected\u001b[0m\u001b[0;34m.\u001b[0m\u001b[0madd\u001b[0m\u001b[0;34m\u001b[0m\u001b[0;34m\u001b[0m\u001b[0m\n\u001b[1;32m    472\u001b[0m             \u001b[0;32mfor\u001b[0m \u001b[0mi\u001b[0m \u001b[0;32min\u001b[0m \u001b[0mrange\u001b[0m\u001b[0;34m(\u001b[0m\u001b[0mk\u001b[0m\u001b[0;34m)\u001b[0m\u001b[0;34m:\u001b[0m\u001b[0;34m\u001b[0m\u001b[0;34m\u001b[0m\u001b[0m\n\u001b[0;32m--> 473\u001b[0;31m                 \u001b[0mj\u001b[0m \u001b[0;34m=\u001b[0m \u001b[0mrandbelow\u001b[0m\u001b[0;34m(\u001b[0m\u001b[0mn\u001b[0m\u001b[0;34m)\u001b[0m\u001b[0;34m\u001b[0m\u001b[0;34m\u001b[0m\u001b[0m\n\u001b[0m\u001b[1;32m    474\u001b[0m                 \u001b[0;32mwhile\u001b[0m \u001b[0mj\u001b[0m \u001b[0;32min\u001b[0m \u001b[0mselected\u001b[0m\u001b[0;34m:\u001b[0m\u001b[0;34m\u001b[0m\u001b[0;34m\u001b[0m\u001b[0m\n\u001b[1;32m    475\u001b[0m                     \u001b[0mj\u001b[0m \u001b[0;34m=\u001b[0m \u001b[0mrandbelow\u001b[0m\u001b[0;34m(\u001b[0m\u001b[0mn\u001b[0m\u001b[0;34m)\u001b[0m\u001b[0;34m\u001b[0m\u001b[0;34m\u001b[0m\u001b[0m\n",
            "\u001b[0;32m/usr/lib/python3.11/random.py\u001b[0m in \u001b[0;36m_randbelow_with_getrandbits\u001b[0;34m(self, n)\u001b[0m\n\u001b[1;32m    237\u001b[0m \u001b[0;34m\u001b[0m\u001b[0m\n\u001b[1;32m    238\u001b[0m         \u001b[0mgetrandbits\u001b[0m \u001b[0;34m=\u001b[0m \u001b[0mself\u001b[0m\u001b[0;34m.\u001b[0m\u001b[0mgetrandbits\u001b[0m\u001b[0;34m\u001b[0m\u001b[0;34m\u001b[0m\u001b[0m\n\u001b[0;32m--> 239\u001b[0;31m         \u001b[0mk\u001b[0m \u001b[0;34m=\u001b[0m \u001b[0mn\u001b[0m\u001b[0;34m.\u001b[0m\u001b[0mbit_length\u001b[0m\u001b[0;34m(\u001b[0m\u001b[0;34m)\u001b[0m  \u001b[0;31m# don't use (n-1) here because n can be 1\u001b[0m\u001b[0;34m\u001b[0m\u001b[0;34m\u001b[0m\u001b[0m\n\u001b[0m\u001b[1;32m    240\u001b[0m         \u001b[0mr\u001b[0m \u001b[0;34m=\u001b[0m \u001b[0mgetrandbits\u001b[0m\u001b[0;34m(\u001b[0m\u001b[0mk\u001b[0m\u001b[0;34m)\u001b[0m  \u001b[0;31m# 0 <= r < 2**k\u001b[0m\u001b[0;34m\u001b[0m\u001b[0;34m\u001b[0m\u001b[0m\n\u001b[1;32m    241\u001b[0m         \u001b[0;32mwhile\u001b[0m \u001b[0mr\u001b[0m \u001b[0;34m>=\u001b[0m \u001b[0mn\u001b[0m\u001b[0;34m:\u001b[0m\u001b[0;34m\u001b[0m\u001b[0;34m\u001b[0m\u001b[0m\n",
            "\u001b[0;31mKeyboardInterrupt\u001b[0m: "
          ]
        }
      ]
    },
    {
      "cell_type": "code",
      "source": [],
      "metadata": {
        "id": "8fn1OcZbRjWy"
      },
      "execution_count": null,
      "outputs": []
    },
    {
      "cell_type": "code",
      "source": [],
      "metadata": {
        "colab": {
          "base_uri": "https://localhost:8080/"
        },
        "id": "WufKe_BXy4U5",
        "outputId": "002fc21e-0d46-475c-9d9c-16305fbe12f6"
      },
      "execution_count": null,
      "outputs": [
        {
          "output_type": "execute_result",
          "data": {
            "text/plain": [
              "['00000000000000000000000000000000', '10111110001000000000000000000000']"
            ]
          },
          "metadata": {},
          "execution_count": 51
        }
      ]
    },
    {
      "cell_type": "code",
      "source": [],
      "metadata": {
        "id": "m29pnZP5TwIy"
      },
      "execution_count": null,
      "outputs": []
    },
    {
      "cell_type": "code",
      "source": [],
      "metadata": {
        "id": "11YBdZGh3t6y"
      },
      "execution_count": null,
      "outputs": []
    }
  ]
}