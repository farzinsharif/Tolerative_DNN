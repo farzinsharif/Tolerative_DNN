{
  "cells": [
    {
      "cell_type": "code",
      "execution_count": 1,
      "metadata": {},
      "outputs": [
        {
          "name": "stderr",
          "output_type": "stream",
          "text": [
            "/home/farzin/anaconda3/envs/hp_dnn/lib/python3.6/site-packages/tqdm/auto.py:21: TqdmWarning: IProgress not found. Please update jupyter and ipywidgets. See https://ipywidgets.readthedocs.io/en/stable/user_install.html\n",
            "  from .autonotebook import tqdm as notebook_tqdm\n"
          ]
        },
        {
          "name": "stdout",
          "output_type": "stream",
          "text": [
            "Files already downloaded and verified\n",
            "cpu\n",
            "Accuracy: 78.12%\n",
            "cuda:0\n"
          ]
        }
      ],
      "source": [
        "import torch\n",
        "import torch.nn as nn\n",
        "import torchvision\n",
        "import torchvision.models as models \n",
        "import torchvision.transforms as transforms\n",
        "from torch.utils.data import DataLoader\n",
        "max_batches = 1 # if set to 0 block wont run so when make 1 have an correct answer (if not)\n",
        "# DEVICE\n",
        "DEVICE = torch.device(\"cuda\" if torch.cuda.is_available() else \"cpu\")\n",
        "\n",
        "# ------------------- 1. RECONSTRUCT THE MODEL ---------------------\n",
        "model = models.vgg16_bn(pretrained=False)\n",
        "model.avgpool = nn.AdaptiveAvgPool2d((1, 1))\n",
        "model.classifier = nn.Sequential(\n",
        "    nn.Flatten(),\n",
        "    nn.Linear(512, 512),\n",
        "    nn.ReLU(True),\n",
        "    nn.Dropout(),\n",
        "    nn.Linear(512, 512),\n",
        "    nn.ReLU(True),\n",
        "    nn.Dropout(),\n",
        "    nn.Linear(512, 10)\n",
        ")\n",
        "model.to(DEVICE)\n",
        "\n",
        "# ------------------- 2. LOAD STATE DICT ---------------------\n",
        "state_dict = torch.load(\"model/baseline_vgg16.pt\", map_location=DEVICE)\n",
        "model.load_state_dict(state_dict)\n",
        "model.eval()\n",
        "\n",
        "# ------------------- 3. LOAD TEST DATA ----------------------\n",
        "transform = transforms.Compose([\n",
        "    transforms.ToTensor(),\n",
        "    transforms.Normalize((0.5,), (0.5,))\n",
        "])\n",
        "\n",
        "test_set = torchvision.datasets.CIFAR10(root='./data', train=False,\n",
        "                                        download=True, transform=transform)\n",
        "test_loader = DataLoader(test_set, batch_size=128, shuffle=False)\n",
        "\n",
        "# ------------------- 4. EVALUATE ACCURACY ----------------------\n",
        "def accuracy(model, loader):\n",
        "    correct = total = 0\n",
        "    with torch.no_grad():\n",
        "        for i, (images, labels) in enumerate(test_loader):\n",
        "            if i >= max_batches:\n",
        "                print(images.device)\n",
        "\n",
        "                break  # Stop after 10 batches\n",
        "            \n",
        "            images, labels = images.to(DEVICE), labels.to(DEVICE)\n",
        "            preds = model(images).argmax(1)\n",
        "            correct += (preds == labels).sum().item()\n",
        "            total += labels.size(0)\n",
        "    return 100. * correct / total\n",
        "\n",
        "acc = accuracy(model, test_loader)\n",
        "print(f\"Accuracy: {acc:.2f}%\")\n",
        "print(next(model.parameters()).device)\n",
        "\n",
        "\n"
      ]
    },
    {
      "cell_type": "code",
      "execution_count": 2,
      "metadata": {},
      "outputs": [
        {
          "name": "stderr",
          "output_type": "stream",
          "text": [
            "Analysing: 100%|██████████| 5/5 [02:10<00:00, 26.05s/it]"
          ]
        },
        {
          "name": "stdout",
          "output_type": "stream",
          "text": [
            "✓ JSON written to filter_ranks.json\n"
          ]
        },
        {
          "name": "stderr",
          "output_type": "stream",
          "text": [
            "\n"
          ]
        }
      ],
      "source": [
        "# ---------- rank-all-conv-filters-layer_fmt.py ----------\n",
        "import torch, json\n",
        "from collections import defaultdict\n",
        "from tqdm import tqdm\n",
        "\n",
        "###############################################################################\n",
        "# Config – tweak to taste\n",
        "###############################################################################\n",
        "BATCH_LIMIT   = 5                  # mini-batches to analyse\n",
        "JSON_OUTFILE  = \"filter_ranks.json\"\n",
        "DEVICE        = next(model.parameters()).device\n",
        "LOADER        = test_loader        # or whichever DataLoader you want\n",
        "###############################################################################\n",
        "\n",
        "###############################################################################\n",
        "# 1. Prepare accumulators and hooks\n",
        "###############################################################################\n",
        "layer_stats  = defaultdict(lambda: {\"sum\": None, \"count\": 0})\n",
        "layer_order  = []                  # keeps the order convs are visited\n",
        "\n",
        "def make_hook(layer_key: str):\n",
        "    def hook(_module, _input, output):\n",
        "        out = output.detach().cpu()\n",
        "        N, C = out.shape[:2]\n",
        "\n",
        "        # rank per (sample, filter)\n",
        "        ranks = torch.empty(N, C, dtype=torch.float32)\n",
        "        for n in range(N):\n",
        "            for c in range(C):\n",
        "                ranks[n, c] = torch.linalg.matrix_rank(out[n, c]).item()\n",
        "\n",
        "        batch_sum = ranks.sum(dim=0)\n",
        "\n",
        "        acc = layer_stats[layer_key]\n",
        "        acc[\"sum\"]   = batch_sum if acc[\"sum\"] is None else acc[\"sum\"] + batch_sum\n",
        "        acc[\"count\"] += N\n",
        "    return hook\n",
        "\n",
        "# register hooks on every Conv2d -- capture insertion order\n",
        "handles = []\n",
        "for name, m in model.named_modules():\n",
        "    if isinstance(m, torch.nn.Conv2d):\n",
        "        layer_order.append(name)               # remember vis-order\n",
        "        handles.append(m.register_forward_hook(make_hook(name)))\n",
        "\n",
        "###############################################################################\n",
        "# 2. Push a few batches through the net\n",
        "###############################################################################\n",
        "model.eval()\n",
        "with torch.no_grad():\n",
        "    for i, (x, _) in enumerate(tqdm(LOADER, total=BATCH_LIMIT, desc=\"Analysing\")):\n",
        "        if i >= BATCH_LIMIT:\n",
        "            break\n",
        "        model(x.to(DEVICE, non_blocking=True))\n",
        "\n",
        "###############################################################################\n",
        "# 3. Build JSON in the format your reader wants\n",
        "###############################################################################\n",
        "json_dict = {}\n",
        "for idx, key in enumerate(layer_order):\n",
        "    stat = layer_stats[key]\n",
        "    avg  = (stat[\"sum\"] / stat[\"count\"]).tolist()     # list of floats\n",
        "    json_dict[f\"layer_{idx}\"] = {\"avg_ranks\": avg}    # <- EXACT field name\n",
        "\n",
        "with open(JSON_OUTFILE, \"w\") as f:\n",
        "    json.dump(json_dict, f, indent=2)\n",
        "print(f\"✓ JSON written to {JSON_OUTFILE}\")\n",
        "\n",
        "###############################################################################\n",
        "# 4. Clean-up hooks\n",
        "###############################################################################\n",
        "for h in handles:\n",
        "    h.remove()\n",
        "# ------------------------------------------------\n"
      ]
    }
  ],
  "metadata": {
    "accelerator": "GPU",
    "colab": {
      "gpuType": "T4",
      "provenance": []
    },
    "kernelspec": {
      "display_name": "hp_dnn",
      "language": "python",
      "name": "python3"
    },
    "language_info": {
      "codemirror_mode": {
        "name": "ipython",
        "version": 3
      },
      "file_extension": ".py",
      "mimetype": "text/x-python",
      "name": "python",
      "nbconvert_exporter": "python",
      "pygments_lexer": "ipython3",
      "version": "3.6.9"
    }
  },
  "nbformat": 4,
  "nbformat_minor": 0
}
